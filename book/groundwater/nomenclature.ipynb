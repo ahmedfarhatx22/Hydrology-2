{
 "cells": [
  {
   "cell_type": "markdown",
   "metadata": {},
   "source": [
    "(groundwater)=\n",
    "# Groundwater \n",
    "\n",
    "```{figure} ../images/GW_nom_groundwaterwell.jpg\n",
    "---\n",
    "width: 400px\n",
    "align: center\n",
    "name: fig:GW_nom_groundwaterwell\n",
    "\n",
    "---\n",
    "Installation of groundwater well – photo by (Neijenhuis, 2023).\n",
    "``` \n",
    "\n",
    "**Nomenclature**"
   ]
  },
  {
   "cell_type": "markdown",
   "metadata": {},
   "source": [
    "| Symbol | Quantity | Quantity name in Dutch | Dimension | Widely used unit (if not SI) |\n",
    "| --- | --- | --- | --- | --- |\n",
    "| $A$ | Area | Dwarsdoorsnede | [L$^2$] | |\n",
    "| $c$ | Hydraulic resistance | Hydraulische weerstand | [T] | [day] |\n",
    "| $dt$ | Time step | Tijdstap | [T] | |\n",
    "| $dh$ | Change in groundwater level | Verandering in groundwaterpeil | [L] | [m] |\n",
    "| $E$ | Evaporation | Verdamping | [L/T] | [m/d] |\n",
    "| $g$ | Acceleration of gravity | Valversnelling | [L/T$^2$] | |\n",
    "| $H$ | Height of the aquifer | Hoogte van de aquifer | [L] | |\n",
    "| $h$ | Hydraulic head | Stijghoogte | [m] | |\n",
    "| $k$ | Hydraulic conductivity | Doorlatendheid | [L/T] | [m/day] | \n",
    "| $L$ | Length | Lengte | [L] | |\n",
    "| $N$ | Recharge of groundwater | Grondwateraanvulling | [L/T] | |\n",
    "| $n$ | Porosity of the soil | Porositeit van de grond | [-] | | \n",
    "| $P$ | Precipitation | Neerslag | [L/T] | [m/d] |\n",
    "| $p$ | Pressure w.r.t. atmospheric pressure | Druk t.o.v. atmosferische druk | [ML$^{-1}$T$^{-2}$] | [N/m$^2$] |\n",
    "| $Q$ | Discharge | Debiet | [L$^3$/T] | [m$^3$/day] | \n",
    "| $q$ | Specific discharge | Specifiek debiet | [L/T] | [m/day] |\n",
    "| $r$ | Distance from the middle of the well | Afstand tot het midden van de bron | [L] | | \n",
    "| $r_0$ | Radius of the well | Straal van de bron| [L] | | \n",
    "| $S$ | Storativity | Bergingscoëfficient | [-] | | \n",
    "| $S_s$ | Specific storage | Specifieke bergingscoëfficient | [1/L] | |\n",
    "| $S_y$ | Specific yield | Freatische bergingscoëfficient | [-] | |\n",
    "| $V_p$ | Volume of the pores | Poriënvolume | [L$^3$] | | \n",
    "| $V_t$ | Total ground volume | Totaal volume van de grond | [L$^3$] | | \n",
    "| $V_s$ | Volume of the soil particles | Volume van de gronddeeltjes | [L$^3$] | | \n",
    "| $V_w$ | Volume of the water | Volume water | [L$^3$] | |\n",
    "| $v$ | Flow velocity | Stroomsnelheid | [L/T] | |\n",
    "| $z$ | Elevation above a reference level | Hoogte t.o.v. een referentieniveau | [L] | |\n",
    "| $\\alpha$ | Drainage factor | Drainagefactor | [1/T] | [1/day] |\n",
    "| $\\mu$ | Storage coefficient (porosity – soil moisture at field capacity)| Bergingscoëfficiënt | [-] | |\n",
    "| $\\mu$  | Kinematice viscosity | Kinematische viscositeit van water | [L$^2$/T] | [m$^2$/s] |\n",
    "| $\\gamma$ | Specific weight of a fluid | Soortelijk gewicht van een vloeistof | [ML$^{-2}$T$^{-2}$] | [N/m$^3$] |\n",
    "| $\\lambda$ | Leakage factor | Spreidingslengte | [L] | | \n",
    "| $\\psi$ | Matric potential | Zuigspanning | [L] | [m] | \n",
    "| $\\rho$ | Density | Dichtheid | [M/L$^3$] | | \n",
    "| $\\theta$  | Moisture content | Bodemvochtgehalte | [-] |  |\n",
    "| $\\kappa$  | Intrisic permeability | Intrinsieke permeabiliteit van een grondsoort | [L$^2$] | [m$^2$] | "
   ]
  },
  {
   "cell_type": "markdown",
   "metadata": {},
   "source": []
  }
 ],
 "metadata": {
  "language_info": {
   "name": "python"
  },
  "orig_nbformat": 4
 },
 "nbformat": 4,
 "nbformat_minor": 2
}
