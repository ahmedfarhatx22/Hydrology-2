{
 "cells": [
  {
   "attachments": {},
   "cell_type": "markdown",
   "metadata": {},
   "source": [
    "# The North Sea and storm surges\n",
    "\n",
    "The North Sea is a shallow marginal sea of the Atlantic Ocean with an average depth of about 100 meters. The tidal movement leads to the formation of a complex pattern of channels, sandbanks, and salt marshes through erosion and sedimentation. The influence of astronomical tides is crucial for the Netherlands due to its low-lying geography and long coastline. The timing and magnitude of high and low tides vary locally. In the southern part of the North Sea, the tidal range is greater than in the north, which is due to the shape of the sea.\n",
    "\n",
    "A storm surge is an abnormally high water level in the sea that exceeds the astronomical tide's high-water level. It is caused by inward-directed storms that push water towards the coast. Northwesterly storms are particularly notorious in this regard since the deep Atlantic Ocean north of Scotland keeps the sea level relatively constant. The North Sea is shallow, and the passage to the Atlantic Ocean is very narrow in the south, limiting the outflow of water in that direction. These factors can result in coastal uplift of over 4 meters along the southern coasts of the North Sea. The highest water levels occur when the maximum coastal uplift coincides with the spring tide of the astronomical tide. This was the case during the 1953 North Sea flood (also known as the Watersnoodramp), during which more than 1,800 people lost their lives. \n",
    "\n",
    "In the Netherlands, Rijkswaterstaat monitors the tides and water levels in the North Sea and Waddenzee {cite:p}`rijkswaterstaat`. KNMI, the Water Management Centre Netherlands (WMCN), the water boards and Rijkswaterstaat together are responsible for issuing storm surge warnings {cite:p}`ministerie-van-infrastructuur-en-waterstaat-2023`. According to KNMI, storminess over the Netherlands has not increased due to climate change {cite:p}`KNMI-2015`. Future projections show that the number of storm depressions is not expected to change by more than a few percent. However, water levels compared to NAP during such storm surges have increased and will continue to increase due to global climate change, as the sea level of the North Sea is rising. \n",
    "\n",
    "KNMI keeps track of the annual mean sea level rise in the Netherlands {cite:p}`KNMI-climate`. Sea level rise is not homogeneous worldwide. Observations along the Dutch coastline show a sea level rise rate of 1.8 mm/year since 1900, which is close to the global mean of 1.7 mm/year. The sea level rise rate along the Dutch coast is projected to increase due to increased ocean warming and increased mass loss from glaciers and ice sheets. Next to that, the Netherlands is experiencing land subsidence, leading to an even larger difference between sea level and land elevation {cite:p}`KNMI-2015`. As a result of the increasing difference between sea level and land elevation as well as flooding of coastal regions, saltwater intrusion can increase. Because of this, freshwater aquifers can become contaminated and affect drinkwater extraction and crop irrigation ({numref}`salt-intrusion`) {cite:p}`panthi-2022`.\n",
    "\n",
    "```{figure} ../images/HNL_northsea_saltintrusion.jpg\n",
    "---\n",
    "height: 400px\n",
    "name: salt-intrusion\n",
    "---\n",
    "Schematic overview of the process of salt intrusion as a result of sea level rise and stormfloods – photo from {cite:p}`panthi-2022`.   \n",
    "```"
   ]
  },
  {
   "cell_type": "markdown",
   "metadata": {},
   "source": []
  }
 ],
 "metadata": {
  "kernelspec": {
   "display_name": "base",
   "language": "python",
   "name": "python3"
  },
  "language_info": {
   "name": "python",
   "version": "3.10.9 | packaged by Anaconda, Inc. | (main, Mar  1 2023, 18:18:15) [MSC v.1916 64 bit (AMD64)]"
  },
  "orig_nbformat": 4,
  "vscode": {
   "interpreter": {
    "hash": "fc91c54e8b6dd29e99a7e2bf2063aba4ca03fb7c7c3af993fcf4759eea017595"
   }
  }
 },
 "nbformat": 4,
 "nbformat_minor": 2
}
