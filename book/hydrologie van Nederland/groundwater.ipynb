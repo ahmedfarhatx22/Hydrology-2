{
 "cells": [
  {
   "attachments": {},
   "cell_type": "markdown",
   "metadata": {},
   "source": [
    "# Groundwater\n",
    "\n",
    "Nearly everywhere in the Netherlands, groundwater is found a few meters below the surface. In the lower parts of the Netherlands, groundwater can often be found within one meter of depth. The loose sediments through which groundwater moves were deposited as river sediments during the Pleistocene epoch; these aquifers are interrupted by poorly permeable layers. In the eastern part of the Netherlands, the Pleistocene aquifers are absent, and groundwater is found in moderately permeable layers from the late Tertiary period. To get an overview of the soil layers, borehole logs can be used. A borehole log can be found at [DINOloket](https://www.dinoloket.nl/en/subsurface-models/map), also cross sections of a desired location are available. \n",
    "\n",
    "\n",
    "\n",
    "```{figure} ../images/HNL_groundwater_Lithologie.png\n",
    "---\n",
    "height: 500px\n",
    "name: lithology\n",
    "---\n",
    "Borehole log which shows the hydrogeology and the lithology. The borehole is located next to the CEG faculty in Delft – downloaded from {cite:p}`Dinolocket`.    \n",
    "```\n",
    "\n",
    "\n",
    "The amount of groundwater from the water table to the poorly permeable layers is enormous, estimated at around 3,000 billion m$^3$. Not all of this water is fresh; the boundary between fresh and saline groundwater is defined as the level where the chloride concentration reaches 150 g/m$^3$. In the lower areas of the country, this boundary is close to the surface. In certain areas around the IJsselmeer, such as the Flevopolder, there is a phenomenon called inversion, where a zone of brackish groundwater exists above fresh groundwater.\n",
    "\n",
    "Recharge of fresh groundwater occurs in higher areas through precipitation infiltrating into the soil. This recharge is balanced by outflow through surface water or through evaporation either directly from the soil or through plants. In the lower areas of the Netherlands, in addition to infiltration, recharge of groundwater mainly occurs through inflow from adjacent higher areas. In the polder areas, this groundwater flow is largely artificial. By controlling water levels in different polders, the groundwater flow can be managed. A polder system is controlled by a pumping station (see {numref}`Polder`).\n",
    "\n",
    "\n",
    "```{figure} ../images/HNL_groundwater_droogmakerij.png\n",
    "---\n",
    "height: 400px\n",
    "name: Polder\n",
    "---\n",
    "Schematization of a polder system, where water levels are controlled by the pumping station – adjusted from {cite:p}`polders`.   \n",
    "```\n"
   ]
  },
  {
   "cell_type": "markdown",
   "metadata": {},
   "source": []
  }
 ],
 "metadata": {
  "kernelspec": {
   "display_name": "base",
   "language": "python",
   "name": "python3"
  },
  "language_info": {
   "name": "python",
   "version": "3.10.9 | packaged by Anaconda, Inc. | (main, Mar  1 2023, 18:18:15) [MSC v.1916 64 bit (AMD64)]"
  },
  "orig_nbformat": 4,
  "vscode": {
   "interpreter": {
    "hash": "fc91c54e8b6dd29e99a7e2bf2063aba4ca03fb7c7c3af993fcf4759eea017595"
   }
  }
 },
 "nbformat": 4,
 "nbformat_minor": 2
}
