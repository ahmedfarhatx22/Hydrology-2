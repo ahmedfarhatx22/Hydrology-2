{
 "cells": [
  {
   "cell_type": "markdown",
   "metadata": {},
   "source": [
    "(hydrologie_van_Nederland)=\n",
    "# Hydrology of The Netherlands\n"
   ]
  },
  {
   "cell_type": "markdown",
   "metadata": {},
   "source": [
    "```{figure} ../images/HNL_nomo_Pannerdensch.jpg\n",
    "---\n",
    "width: 400px\n",
    "align: center\n",
    "name: fig:Pannerdenschkanaal\n",
    "---\n",
    "Pannerdensch Kanaal – photo by {cite:p}`Voskens2022`.\n",
    "``` "
   ]
  },
  {
   "cell_type": "markdown",
   "metadata": {},
   "source": []
  }
 ],
 "metadata": {
  "language_info": {
   "name": "python"
  },
  "orig_nbformat": 4
 },
 "nbformat": 4,
 "nbformat_minor": 2
}
