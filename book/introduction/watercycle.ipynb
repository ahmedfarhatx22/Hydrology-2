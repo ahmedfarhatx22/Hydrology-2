{
 "cells": [
  {
   "attachments": {},
   "cell_type": "markdown",
   "metadata": {},
   "source": [
    "# Water cycle"
   ]
  },
  {
   "attachments": {},
   "cell_type": "markdown",
   "metadata": {},
   "source": [
    "Water falls either as rain, hail, or snow on the land surface. Part of this water evaporates directly from the land surface or through vegetation, while another portion runs off into surface water or infiltrates into deeper groundwater. The various processes of precipitation, evaporation, infiltration, and surface runoff are strongly interconnected. This complexity, combined with various local conditions, makes the overall hydrological system quite intricate. Eventually, all water from land will flow into a sea or ocean sooner or later. On average, in these vast bodies of water, evaporation exceeds precipitation, and through the transport of water vapor through the atmosphere, the hydrological cycle is closed.\n",
    "\n",
    "From the cycle (see Figure {numref}`fig:watercycle_usgs`), it becomes clear that water is not consumed, as is the case with fossil fuels, for example. Even when used by humans, animals, and plants, there is only utilization. The amount of water does not change; only its quality changes. This change in quality can be caused by a several factors. Firstly, a physical factor such as temperature influences the water quality. Secondly, chemical factors as salt or mineral contents can play a large role too. Last but not least, chemical factors, e.g. the presence of pollutants, can be devistating for water quality.\n",
    "\n",
    "```{figure} ../images/INT_watercycle_watercycle.jpg\n",
    "---\n",
    "height: 600px\n",
    "name: fig:watercycle_usgs\n",
    "---\n",
    "Global water cycle diagram – photo by {cite:p}`INT_watercycle`.\n",
    "```\n"
   ]
  },
  {
   "cell_type": "markdown",
   "metadata": {},
   "source": []
  }
 ],
 "metadata": {
  "kernelspec": {
   "display_name": "Python 3",
   "language": "python",
   "name": "python3"
  },
  "language_info": {
   "name": "python",
   "version": "3.11.1 (tags/v3.11.1:a7a450f, Dec  6 2022, 19:58:39) [MSC v.1934 64 bit (AMD64)]"
  },
  "orig_nbformat": 4,
  "vscode": {
   "interpreter": {
    "hash": "5238573367df39f7286bb46f9ff5f08f63a01a80960060ce41e3c79b190280fa"
   }
  }
 },
 "nbformat": 4,
 "nbformat_minor": 2
}
