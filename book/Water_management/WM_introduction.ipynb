{
 "cells": [
  {
   "cell_type": "markdown",
   "metadata": {},
   "source": [
    "(WM_introduction)=\n",
    "# Water management"
   ]
  },
  {
   "cell_type": "markdown",
   "metadata": {},
   "source": [
    "This chapter introduces the topic of water management. Hydrology deals with the natural flow of wate, but most river basins have been affected profoundly by human action {cite:p}`sivapalan_socio-hydrology_2012`. To maximise the benefits for society, effective water management is needed. Hydrology can provide a basis for water management, but only if hydrologists develop a good understanding of how water management works and the contributions they can make to it.\n",
    "This chapter first provides an overview of the different ways in which humans affect the water cycle ({numref}`WM_humans`) and the different types of water management ({numref}`WM_what_is_WM`). This is followed by a discussion of the main actors in water management, using the Netherlands as an example ({numref}`WM_managers`). These actors may have very different views and interests, which makes water management inherently political ({numref}`WM_politics`). The next section discusses the different roles hydrologists can play in water management ({numref}`WM_hydrologist`). The chapter concludes with a discussion of the importance of ethics for water management and hydrology ({numref}`WM_ethics`)."
   ]
  },
  {
   "cell_type": "markdown",
   "metadata": {},
   "source": []
  }
 ],
 "metadata": {
  "kernelspec": {
   "display_name": "hydro",
   "language": "python",
   "name": "python3"
  },
  "language_info": {
   "name": "python",
   "version": "3.12.2"
  }
 },
 "nbformat": 4,
 "nbformat_minor": 2
}
