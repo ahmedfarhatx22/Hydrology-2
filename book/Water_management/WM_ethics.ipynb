{
 "cells": [
  {
   "cell_type": "markdown",
   "metadata": {},
   "source": [
    "(WM_ethics)=\n",
    "# Ethics\n",
    "\n",
    "Water management is not only a scientific, technical and political issue, it’s also an ethical issue. Ethics deals with issues of good and bad, appropriate and inappropriate, and justified or unjustified. Often, a distinction is made between ethics and morals. In that case, “morals” refers to systems of values, principles and rules, and ethics to systematic reflection on morals {cite:p}`doorn2017ethiek`. Reflection is important because moral values, principles and rules can be quite abstract and it is not always clear which apply in a specific case and what their implications are."
   ]
  },
  {
   "cell_type": "markdown",
   "metadata": {},
   "source": [
    "(ethics_WM)=\n",
    "## Ethics and water management\n",
    "\n",
    "To make the discussion more concrete, let’s use the flood retention reservoir from {numref}`WM_politics` as an example and assume this reservoir will have large benefits for 100,000 people and uproot the lives of 1,000 people that will have to be relocated. Should this reservoir be built or not?\n",
    "\n",
    "A relevant principle for answering this question is that total benefits should exceed total costs. Apply this principle, however, improved flood protection for 100,000 people would have to be balanced against 1,000 uprooted lives, and it is not clear how this could be done. Another principle is that costs and benefits should be shared equitably and that those who bear a disproportionate part of the costs should be compensated. Major issues with this principle are the difficulty of compensating for an uprooted life and the concrete meaning of “equitably”. Does equity mean that the situation of those who are worst off should improve, irrespective of the situation of those who are better off, or should no one be worse off than before? Or are there situations in which the interests of the few should make way for the interests of the many?\n",
    "\n",
    "On top of these anthropocentric principles, there’s the issue whether rivers have an intrinsic value, independent from humans, and should get legal rights, such as the right to flow freely {cite:p}`noauthor_petitie_nodate`. This raises further questions concerning the extent of their rights and who should represent them in court if their rights are violated {cite:p}`groenfeldt_water_2019, immovilli_exploring_2022, tanasescu_understanding_2022`.\n",
    "\n",
    "Ethical questions are not easy to answer. One could argue that all relevant stakeholders should be involved but, in the case of the flood retention reservoir example, does this include only the 1,000 local people or also the 100,000 people downstream? Moreover, given that it is impossible to have a meaningful discussion with 1,000 people, let alone 101,000 people, who should-represent them? And should they only be listened, should they get veto power, or something in between?"
   ]
  },
  {
   "cell_type": "markdown",
   "metadata": {},
   "source": [
    "(origin_ethics)=\n",
    "## On the origin of ethics (or at least one view on this)\n",
    "\n",
    "Ethical questions are political in the sense that they concern public issues, there may be winners and losers, depending on the answers given, and some parties will have more influence or power than others. Yet, ethics is not the same as politics. According to the primatologist De Waal {cite:p}`waal_primates_2009`, it has an evolutionary basis. At its root are moral emotions that stimulate members of a group to help and not hurt each other, such as a capacity for empathy, a tendency for reciprocity and a sense of fairness. The explanation of these emotions is that species whose members are considerate of each other and help each other out have a bigger chance of survival than species that do not.\n",
    "\n",
    "The next layer of ethics, building on these emotions, is socialisation in early life. This involves rewards for behaviour that favours cooperative group life, such as sharing, and punishment of anti-social behaviour, such as lying and aggression. The result is a flexible system of internalised norms that regulates much of our daily behaviour {cite:p}`breen_thinking_2018`. Of course, this does not rule out self-centred competitive behaviour, which can stimulate individual excellence.\n",
    "\n",
    "The final layer of ethics, building on the previous two, is ethics proper: conscious reflection on values, principles and rules. Ethics in this sense is exclusively human. It is essential whenever moral emotions and internalised norms do not suffice to make good decisions − as in the case of the flood retention reservoir."
   ]
  },
  {
   "cell_type": "markdown",
   "metadata": {},
   "source": [
    "(ethics_hydrology)=\n",
    "## Ethics and hydrology\n",
    "\n",
    "Ethics is not only important for water management but also, by extension, for hydrology. Relevant ethical issues for hydrologists include for whom and what to work, which and whose values and interests to serve, and reflection on their own, often implicit values and interests.\n",
    "\n",
    "Since hydrology is a scientific discipline, hydrologists should observe scientific values such as transparency, validity and scepticism. They should be clear about the methods used and assumptions made, about the limitations of their research and the remaining uncertainties, and about any funding received. They should always check their theories against empirical observations and report the results truthfully. Moreover, they should be critical about their own work and other hydrologists’ work since constructive criticism is how science progresses. Still, research choices cannot be based exclusively on scientific values. Whether to include a specific alternative or not, for instance, is often more a political and ethical choice than a scientific one ({numref}`WM_hydrologist`).\n",
    "\n",
    "There may be situations where scientific and non-scientific values conflict. A good example is the Dutch policy to replace hard pavement in gardens by greenery [the Dutch Championship “tegelwippen”, or tile lifting](https://www.nk-tegelwippen.nl). More greenery increases infiltration, recharges the groundwater and reduces runoff and stormwater  problems. In addition, it increases biodiversity and can lower temperatures in the summer. It also increases transpiration, especially in summer. On balance, the result might be lower groundwater levels in the summer, which would be very problematic because many old houses are built on wooden piles that rot away if they become dry for longer periods {cite:p}`kcaf2022brochure`. Should hydrologists mention this possibility, which would be according to scientific values, or should they remain silent on this because of the more certain societal benefits of greener gardens?\n",
    "\n",
    "To conclude this chapter with a quote, here is one from the famous philosopher of science Karl Popper from 1971:\n",
    "> “Formerly, the pure scientist had only one responsibility beyond those which everyone else has: to search for truth ... Since the natural scientist has become inextricably involved in the application of science, he should consider it one of his special responsibilities to foresee as far as possible the unintended consequences of his work and to draw attention from the very beginning, to those which we should strive to avoid.” \n",
    "> — Karl Popper (p. 121 and 129 of {cite:p}`popper_myth_1994` and quoted in p.21-22 of {cite:p}`koertge_9_2005`)"
   ]
  },
  {
   "cell_type": "markdown",
   "metadata": {},
   "source": []
  }
 ],
 "metadata": {
  "kernelspec": {
   "display_name": "hydro",
   "language": "python",
   "name": "python3"
  },
  "language_info": {
   "name": "python",
   "version": "3.12.2"
  }
 },
 "nbformat": 4,
 "nbformat_minor": 2
}
