{
 "cells": [
  {
   "cell_type": "markdown",
   "metadata": {},
   "source": [
    "(WM_what_is_WM)=\n",
    "# What is water management?"
   ]
  },
  {
   "cell_type": "markdown",
   "metadata": {},
   "source": [
    "To minimise the negative and maximise the positive effects of human action, effective water management is called for. There are two main types of water management: regulation of the use of water and water systems and infrastructure management. Regulation covers surface and groundwater abstraction by drinking water companies, industry and others; emission of polluting substances, and for instance building on floodplains. These activities can be forbidden or restricted via general rules (*laws*, *acts*, *statutes*, *regulations*, etc.). These rules may also stipulate that individual activities are first reviewed and approved by a competent authority, who can impose restrictions, for instance allow a specific water abstraction but not during droughts.\n",
    "\n",
    "Infrastructure management covers the construction, operation, maintenance and financing of sluices, weirs, pumping stations, wastewater treatment plants and other water management infrastructure. It also includes interventions in or on natural water bodies, such as dredging rivers and straightening river bends. Infrastructure management is typically subject to regulation, so the two types of water management overlap.\n",
    "\n",
    "As discussed in the previous section, the water cycle is not only influenced by the use of water and water systems, but also by land use change and climate change. Hence, spatial planning and climate policy are highly relevant too. In addition, water use sectors such as agriculture, nature protection, drinking water supply and shipping are highly relevant. A major challenge for water management is to meet the sometimes conflicting demands of these sectors.\n"
   ]
  },
  {
   "cell_type": "markdown",
   "metadata": {},
   "source": []
  }
 ],
 "metadata": {
  "kernelspec": {
   "display_name": "hydro",
   "language": "python",
   "name": "python3"
  },
  "language_info": {
   "name": "python",
   "version": "3.12.2"
  }
 },
 "nbformat": 4,
 "nbformat_minor": 2
}
