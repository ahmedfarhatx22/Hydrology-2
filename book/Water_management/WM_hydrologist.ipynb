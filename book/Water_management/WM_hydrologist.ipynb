{
 "cells": [
  {
   "cell_type": "markdown",
   "metadata": {},
   "source": [
    "(WM_hydrologist)=\n",
    "# The hydrologist’s role in water management"
   ]
  },
  {
   "cell_type": "markdown",
   "metadata": {},
   "source": [
    "Against this background, what role should hydrologists play in water management? A common view is that hydrology as a science is objective and water management subjective. The role of hydrologists would be to analyse given problems objectively, identify their causes and effects, and develop solutions − if necessary with the help of experts from other disciplines, such as ecology, sociology and economy. The role of water managers would be to select the best solution, given their or society’s values and interests.\n",
    "\n",
    "In practice, hydrology and water management cannot be separated that neatly. Water managers are involved in hydrological research in different ways:\n",
    "- By funding some types of research and not others\n",
    "- By formulating the research question or questions to be answered\n",
    "- By suggesting or requiring the inclusion of specific solutions and effects and the exclusion of others\n",
    "- By influencing how the results are presented, for example what information is included in the summary and the conclusion and what is relegated to an appendix or a footnote\n"
   ]
  },
  {
   "cell_type": "markdown",
   "metadata": {},
   "source": [
    "Hydrologists also make research choices on their own but these cannot be based on scientific grounds only. They inevitably reflect, however implicitly, the discipline’s focus and assumptions and the individual hydrologist’s values and interests (see chapter 7, on water engineering) {cite:p}`sarewitz_how_2004, doorn_water_2019`.\n",
    "\n",
    "Hydrologists who want to contribute to water management should, first of all, identify the most relevant stakeholders and develop a good understanding of their values, interests and background knowledge. Secondly, they should seek cooperation with other disciplines if they cannot cover all these values and interests, e.g. cooperate with ecologists if nature protection is a key issue. Failing to do so may make their work irrelevant or even incomprehensible for the stakeholders that matter most {cite:p}`mostert_seven_2008`.\n",
    "\n",
    "The stakeholders that matter most include the paying client, but not only. They depend on the type of research use a hydrologist is aiming for {cite:p}`amara_new_2004`:\n",
    "-\tInstrumental use: the conclusions and recommendations are adopted\n",
    "-\tConceptual use: the research influences views on the issue at stake, which may lead to significant changes in the longer term\n",
    "-\tStrategic or symbolic use: the research is used purely to legitimate pet projects of the client\n",
    "\n",
    "Instrumental use requires that hydrologists target the responsible decision-makers and recommend only options that are politically feasible in the short term. For conceptual use, short-term political feasibility matters less. Moreover, other stakeholders who can influence political feasibility should be targeted as well.\n",
    "\n",
    "In case of strategic use, the client and other users have already decided which solution to promote and they are only interested in information that supports their decision. Strategic use is highly selective and may involve misrepresentation of the results and, in case of the client, active steering of the research towards the desired results. Whether to accept such steering or not is ultimately an ethical decision."
   ]
  },
  {
   "cell_type": "markdown",
   "metadata": {},
   "source": []
  }
 ],
 "metadata": {
  "language_info": {
   "name": "python"
  }
 },
 "nbformat": 4,
 "nbformat_minor": 2
}
