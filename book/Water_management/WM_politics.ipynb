{
 "cells": [
  {
   "cell_type": "markdown",
   "metadata": {},
   "source": [
    "(WM_politics)=\n",
    "# Water politics"
   ]
  },
  {
   "cell_type": "markdown",
   "metadata": {},
   "source": [
    "Water management is always political. A first definition of politics is decision-making on public issues {cite:p}`schlager_embracing_2008`. Water management always involves such decisions, for instance on the level of flood protection or the allocation of scarce water resources.\n",
    "\n",
    "Secondly, politics can be defined in terms of winners and losers (see the title of Harold Laswell’s 1936 book \"*Politics: who gets what, when, how*\" {cite:p}`carpenter_politics_1936`). In water management there are often winners and losers. Take for example a proposed flood retention reservoir to prevent devastating floods downstream. The benefits for the downstream population would be large, but the local population that would have to move would face large costs. The latter could be compensated financially, but it is difficult to compensate for non-economic costs, such as the loss of a traditional lifestyle.\n",
    "\n",
    "Thirdly, water management is political in the sense that it involves power and influence. Whether the flood retention reservoir just discussed will be constructed, and financial compensation offered or not, depends on the influence or “power” of the downstream population and the local population on the media and the politicians who will take the decisions. It also depends on the applicable laws on, for instance, damage compensation. In fact, law can function as a source of power.\n"
   ]
  },
  {
   "cell_type": "markdown",
   "metadata": {},
   "source": []
  }
 ],
 "metadata": {
  "language_info": {
   "name": "python"
  }
 },
 "nbformat": 4,
 "nbformat_minor": 2
}
