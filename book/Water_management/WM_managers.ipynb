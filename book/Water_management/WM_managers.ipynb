{
 "cells": [
  {
   "cell_type": "markdown",
   "metadata": {},
   "source": [
    "(WM_managers)=\n",
    "# Water managers\n",
    "\n",
    "Water management is a human activity. Water use is regulated, and water infrastructure is managed, by individuals, groups and organisations. The first question anyone wanting to contribute to water management should answer is who these individuals, groups and organisations are."
   ]
  },
  {
   "cell_type": "markdown",
   "metadata": {},
   "source": [
    "(Dutch_managers)=\n",
    "## Dutch water managers\n",
    "\n",
    "While hydrologists often speak of “the” water manager (*singular*), in practice often many bodies are involved in water management. The Netherlands provide a good example of this {cite:p}`mostert_nederlands_2022, oecd_water_2014`.\n",
    "\n",
    "In the Netherlands, there are twenty-two organisations that have water management as their main or only task: the *State Water Management Agency* (NL: *Rijkswaterstaat*) and the 21 water boards (NL: *waterschappen* or *hoogheemraadschappen*). *Rijkswaterstaat* manages, on behalf of the Minister of Infrastructure and Water Management, the so-called \"State waters”. These include the rivers Rhine, Meuse and Scheldt; the largest canals; Lake Ijssel; Lake Marken; the former estuaries in the southwest of the country; and the Dutch parts of the Wadden Sea and the North Sea. In addition, *Rijkswaterstaat* manages the Delta works and the Afsluitdijk, a closure dam that separates Lake Ijssel from the Wadden Sea. *Rijkswaterstaat* also has important tasks concerning motorways, air traffic and communication. Their main source of income is the national budget, so in the end national taxes.\n",
    "\n",
    "The 21 water boards are responsible for the management of the smaller “regional waters”, such as the Schie in Delft and the polder waters ({numref}`water_boards`). They regulate water abstractions and emissions, operate the drainage infrastructure (pumps, weirs, etc.), maintain most dykes, and treat urban wastewater. They are not responsible for the sewers, which is a municipal task, or for drinking water supply, which is the task of ten publicly-owned drinking water companies. The council of the water board is democratically elected, except for a few seats that are reserved for representatives of agriculture and nature. Their main source of income is the revenue of the water board taxes {cite:p}`mostert_between_2017, vollaard_waterschappen_2023`.\n",
    "\n",
    "```{figure} ../images/Water_Boards.jpg\n",
    "---\n",
    "height: 400px\n",
    "name: water_boards\n",
    "---\n",
    "Dutch water boards on 1-1-2023 {cite:p}`Waterschappen2023`\n",
    "```\n",
    "\n",
    "The Dutch municipalities − 342 on 1 January 2024 − are not only responsible for the sewers, but also for taking measures against groundwater problems in the built-up area. They manage much of the public space, such as roads and parks, and can influence infiltration and runoff, for instance by replacing impermeable pavement by permeable pavement and by subsidising rain barrels and “green roofs” ({numref}`green_parking`). The municipal council is directly elected every four years. Much of their budget comes from national government, but they also have their own taxes, such as the municipal real estate tax and the sewers charge.\n",
    "\n",
    "```{figure} ../images/green_parking.jpg\n",
    "---\n",
    "height: 400px\n",
    "name: green_parking\n",
    "---\n",
    "Green parking, one of the options for municipalities to increase infiltration and underground storage and reduce water logging and sewer overflows (Nootdorp, the Netherlands; Wikimedia commons, Nanda Sluijsmans, cc-by-sa-2.0) \n",
    "```\n",
    "\n",
    "The (12) Dutch provinces regulate the larger groundwater abstractions. They have furthermore important tasks in spatial planning and nature protection and supervise the water boards and the municipalities. The provincial council is directly elected and most of their funding comes from national government.\n",
    "All these government bodies work within a legal and policy framework. The laws and policies are partly made by these bodies themselves, but many come from national government or the European Union. National policy plans are made by ministers and national laws by the Cabinet and Parliament together. European Union legislation, such as directives and regulations, is proposed by the European Commission and adopted by the Council (the relevant ministers from all Member States) and the European Parliament.\n",
    "\n",
    "In many situations more than one government body is involved. Creating a flood retention reservoir in a smaller river, for example, is a water board task. However, it involves a change in land use, which has to be authorised by the municipality, and may be combined with nature development and new recreation opportunities, which are provincial and municipal tasks.\n",
    "\n",
    "Despite occasional tensions, Dutch government bodies cooperate a lot, also internationally. For the Rhine, the Meuse and the Scheldt, river basin commissions have been set up that include all or most of the basin countries ([iksr.org](https://www.iksr.org/de/), [meuse-maas.be](http://www.meuse-maas.be), [isc-cie.org](https://www.isc-cie.org)). In addition, the Netherlands is a members of bilateral commissions with Belgium and Germany, such as the Deltarhein commission, the Boundary Waters Commission and the Transboundary Platform for Regional Water Management ([gprw.eu/nl](https://gprw.eu/nl)) with Germany and the Flemish-Dutch Scheldt Commission ([vnsc.eu](https://vnsc.eu)). Some of these commissions are very active, others less so, but the relations with the upstream neighbours are generally good. In the past, this has sometimes been different {cite:p}`dieperink_open_1998, meijerink_conflict_1999`.\n",
    "\n",
    "In addition to governmental bodies, non-governmental actors play a very important role in Dutch water management too. First of all, they include the citizens that can vote for Parliament and the other representative councils. Since citizens get most of their information from the media, both traditional and social, these media are important too. Civil servants play a crucial role as advisors of the responsible politicians and in the implementation of their decisions. The same applies, in a different form, to scientists and technical experts. Their research may also be taken up by the media and influence public opinion. In addition, interest groups such as farmers’ associations and environmental NGOs should be mentioned. They can lobby with civil servants and politicians, go to the media and organise protests.\n",
    "\n",
    "Finally, the courts should be mentioned. If a Dutch government body takes a decision or acts in a way that conflicts with the law, the affected stakeholders can start legal proceedings. The court can then nullify the decision or forbid the action and order damage compensation. Stakeholders can also sue each other, for instance an environmental NGO can sue a company that discharges pollutants without a permit {cite:p}`mostert_nederlands_2022`."
   ]
  },
  {
   "cell_type": "markdown",
   "metadata": {},
   "source": [
    "(international_managers)=\n",
    "##  Internationally\n",
    "\n",
    "In other countries, water management is often organised quite differently. For example, drinking water provision, wastewater collection and wastewater treatment are often the responsibility of the municipalities or private water companies instead of being spread over three bodies. The budgets for water management can be larger or, usually, smaller than in the Netherlands. Furthermore, elections are often less free and the courts and the media less independent {cite:p}`noauthor_democracy_nodate, WJPIndex2023`. This changes the role of individual citizens and NGOs significantly. Relations with upstream countries are sometimes more strained, as for example in the Nile basin. And last but not least, national “cultures” – the dominant values, views and practices in society – differ, for example, be more or less “green” and more or less competitive {cite:p}`schwartz_culture_2009`."
   ]
  },
  {
   "cell_type": "markdown",
   "metadata": {},
   "source": []
  }
 ],
 "metadata": {
  "kernelspec": {
   "display_name": "hydro",
   "language": "python",
   "name": "python3"
  },
  "language_info": {
   "name": "python",
   "version": "3.12.2"
  }
 },
 "nbformat": 4,
 "nbformat_minor": 2
}
