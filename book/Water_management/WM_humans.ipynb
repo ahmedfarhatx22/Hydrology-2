{
 "cells": [
  {
   "cell_type": "markdown",
   "metadata": {},
   "source": [
    "(WM_humans)=\n",
    "# Humans and the water cycle"
   ]
  },
  {
   "cell_type": "markdown",
   "metadata": {},
   "source": [
    "(land_use_change)=\n",
    "## Land use change\n",
    "\n",
    "Humans affect the water cycle in many ways, sometimes intentionally and sometimes unintentionally, and with positive as well as negative effects. Changes in land use, for example, such as replacing natural forest by agricultural land or changing one crop for another, may change evaporation and infiltration. In addition, they may change the local and regional climate and thereby precipitation. These changes in evaporation, infiltration and precipitations may in turn significantly increase or decrease groundwater levels and river discharge."
   ]
  },
  {
   "cell_type": "markdown",
   "metadata": {},
   "source": [
    "(drainage_irrigation)=\n",
    "## Drainage and irrigation\n",
    "\n",
    "The effects of land use change will be larger if, at the same time, drainage is improved, irrigation is introduced or both. Improved drainage, in the form of drainage ditches or underground drainage pipes, reduces waterlogging and increases runoff from the fields. It may also result in higher peak river discharges, more flooding downstream and more drought problems locally as less water is retained.\n",
    "The impact of irrigation depends on several factors, such as:\n",
    "\n",
    "- Crop type\n",
    "- Local climate\n",
    "- Whether full irrigation is practiced, to create optimal conditions for the crops, or supplementary irrigation, to reduce damage during droughts the irrigation technique used, for example sprinkler irrigation or drip irrigation\n",
    "- The water source used\n",
    "- The use of fertilisers and pesticides on the irrigated land, which can pollute the water\n",
    "\n",
    "```{Note}\n",
    "In all cases, irrigation increases transpiration by the crops.\n",
    " ```"
   ]
  },
  {
   "cell_type": "markdown",
   "metadata": {},
   "source": [
    "(water_supply)=\n",
    "## Water supply\n",
    "\n",
    "When irrigation water is abstracted from a nearby river, the discharge of that river obviously decreases, which can create or worsen water scarcity problems downstream. If the discharge of that river is very variable, a reservoir can be constructed to store water in the wet season for use in the dry season. If there is no river nearby with sufficient discharge, groundwater may be used instead or water may be imported from other river basins.\n",
    "Reservoirs result in more open water evaporation, especially when they have a large surface area and are located in hot and dry regions, such as Lake Nasser in Sudan and Egypt ({numref}`Lake_Nasser_reservoir`). In addition, they can trap sediments, which decreases effective storage and may result in erosion of the river bed downstream. They may moreover reduce flooding downstream. This may be positive, but also negative if downstream wetlands disappear and floodplains become less fertile and dry out. And last but not least, reservoirs result in loss of land and require relocation of the people living on the land (see also {numref}`reservoirs`).\n",
    "\n",
    "```{figure} ../images/Lake_Nasser_reservoir.jpg\n",
    "---\n",
    "height: 400px\n",
    "name: Lake_Nasser_reservoir\n",
    "---\n",
    "Lake Nasser at Abu Simbel, Egypt: 5,250 km2 of surface water in the middle of the desert. {cite:p}`LakeNasserVista`\n",
    "```\n",
    "\n",
    "If groundwater is used and abstraction exceeds recharge, groundwater levels will decrease. If the decrease is large, surface water sources may run dry and groundwater abstraction may become too expensive. In coastal areas, salt water may enter the aquifer, rendering the groundwater unusable. In addition, land subsidence may become an issue, depending on the quantities abstracted and the local geology (see {numref}`groundwater`).\n",
    "Import of water from other basins (*interbasin water transfer*) obviously has an impact on the source basin, especially when water there is scarce too. An example is the Tagus-Segura project, which taps water from the Tagus river upstream in Spain and transports it 286 km to the south to the Segura basin, where it is used for irrigation. The project significantly reduces the inflow of Tagus water into Portugal ({numref}`Tagus-Segura`), which is already water stressed in dry summers {cite}`fanzeres2024tagus`.\n",
    "\n",
    "```{figure} ../images/Tagus-Segura.jpg\n",
    "---\n",
    "height: 400px\n",
    "name: Tagus-Segura\n",
    "---\n",
    "Aqueduct at Carrascosa del Campo, Spain, part of the Tagus-Segura project {cite:p}`TrasvaseTajoSegura`\n",
    "```"
   ]
  },
  {
   "cell_type": "markdown",
   "metadata": {},
   "source": [
    "(urbanisation_industrialisation)=\n",
    "## Urbanisation and industrialisation\n",
    "\n",
    "Urbanisation results in an increase of hard surfaces. This decreases infiltration and evaporation, increases runoff, and may result in more flooding problems (see {numref}`urban_hydrology`). In addition, the demand for drinking water will go up. Most of the drinking water used is eventually returned to the environment, but often at a different location and time and in a worse quality, especially if there is no wastewater treatment.\n",
    "Urbanisation often goes hand in hand with industrialisation, which further increases water demand. As with drinking water, most of the water used is eventually returned, but at a different location and time and usually in a worse quality."
   ]
  },
  {
   "cell_type": "markdown",
   "metadata": {},
   "source": [
    "(dykes_polders)=\n",
    "## Dykes and polders\n",
    "\n",
    "Building dykes along rivers reduces the area of the floodplains and consequently temporary water storage on these floodplains during high river discharges. This can raise peak water levels and increase flooding problems. In addition, sediments can no longer be deposited on the floodplains and part of these sediments will be deposited on the river bed. In combination with activities that cause land subsidence, such as groundwater abstraction and drainage of peat areas, this can result in rivers that run higher than the surrounding land (see {numref}`Polder`; {cite:p}`van_de_ven_man-made_2004`)."
   ]
  },
  {
   "cell_type": "markdown",
   "metadata": {},
   "source": [
    "(CO2_emissions)=\n",
    "## CO<sub>2</sub> emissions\n",
    "\n",
    "Without being complete, one more human activity should be mentioned: CO<sub>2</sub> emissions. CO<sub>2</sub> emissions contribute to climate change. Global temperatures are expected to rise, increasing evaporation, and rainfall patterns are expected to change, resulting in both more drought problems and more flooding problems {cite:p}`lee_ipcc_2023`. The impact of climate change on hydrology is discussed in more detail in the [MSc programme Environmental Engineering](https://www.tudelft.nl/onderwijs/opleidingen/masters/enve/msc-environmental-engineering) at TU Delft."
   ]
  },
  {
   "cell_type": "markdown",
   "metadata": {},
   "source": []
  }
 ],
 "metadata": {
  "kernelspec": {
   "display_name": "hydro",
   "language": "python",
   "name": "python3"
  },
  "language_info": {
   "name": "python",
   "version": "3.12.2"
  }
 },
 "nbformat": 4,
 "nbformat_minor": 2
}
