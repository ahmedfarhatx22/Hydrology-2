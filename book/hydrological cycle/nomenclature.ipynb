{
 "cells": [
  {
   "attachments": {},
   "cell_type": "markdown",
   "metadata": {},
   "source": [
    "(hydrologicalcycle)=\n",
    "\n",
    "# Hydrological cycle \n",
    "\n",
    "```{figure} ../images/HC_nom_hydrocycleoverview.jpg\n",
    "---\n",
    "width: 400px\n",
    "align: center\n",
    "name: fig:HC_nom_hydrologicalcycle\n",
    "---\n",
    "Schematic overview of the hydrological cycle – photo from {cite:p}`USGS2019_watercycle`.\n",
    "``` \n",
    "\n",
    "\n",
    "**Nomenclature**"
   ]
  },
  {
   "attachments": {},
   "cell_type": "markdown",
   "metadata": {},
   "source": [
    "| Symbol | Quantity | Quantity name in Dutch | Dimension | Widely used unit (if not SI) |\n",
    "| --- | --- | --- | --- | --- |\n",
    "| $A$ | Area | Oppervlakte | [L$^2$] | - |\n",
    "| $A_\\text{s}$ | Area of soil | Oppervlakte van bodem | [L$^2$] | - |\n",
    "| $A_\\text{w}$ | Area of surface water | Oppervlakte van oppervlaktewater | [L$^2$] | - |\n",
    "| $C$ | Capillary rise | Capillaire stijging | [L/T] | - |\n",
    "| $E$ | Evaporation | Verdamping | [L/T] | - |\n",
    "| $E_\\text{i}$ | Interception | Interceptie | [L/T] | - |\n",
    "| $E_\\text{t}$ | Transpiration | Transpiratie | [L/T] | - |\n",
    "| $E_\\text{s}$ | Soil evaporation | Bodemverdamping | [L/T] | - |\n",
    "| $E_\\text{o}$ | Open water evaporation | Verdamping van open water | [L/T] | - |\n",
    "| $F$ | Net flux to atmosphere | Nettostroom naar de atmosfeer | [L$^3$/T] | - |\n",
    "| $I$ | Infiltration to unsaturated zone | Infiltratie naar de onverzadigde zone | [L$^3$/T] | - |\n",
    "| $L$ | Leakage | Wegzijging | [L/T] | - |\n",
    "| $N$ | Spillage | Verlies | [L$^3$/T] | - |\n",
    "| $O_\\text{des}$ | Desired withdrawal for a reservoir | Gewenste onttrekking voor een reservoir | [L$^3$] | - |\n",
    "| $P$ | Precipitation | Neerslag | [L/T] | - |\n",
    "| $Q$ | River discharge | Rivierafvoer | [L$^3$/T] | - |\n",
    "| $Q_\\text{g,o}$ | Subsurface runoff to ocean | Grondwaterafvoer naar de oceaan | [L$^3$/T] | - |\n",
    "| $Q_\\text{g,w}$ | Subsurface runoff to open water | Grondwaterafvoer naar open water | [L$^3$/T] | - |\n",
    "| $Q_\\text{in}$ | Incoming fluxes | Inkomende stromen | [L$^3$/T] | - |\n",
    "| $Q_\\text{out}$ | Outgoing fluxes | Uitgaande stromen | [L$^3$/T] | - |\n",
    "| $Q_\\text{r}$ | Rapid runoff through the soil | Snelle afvoer door de bodem | [L$^3$/T] | - |\n",
    "| $Q_\\text{s}$ | Surface flow to open water | Oppervlaktewaterafvoer naar open water | [L$^3$/T] | - |\n",
    "| $R$ | Recharge | Percolatie | [L/T] | - |\n",
    "| $S$ | Storage | Opslag | [L$^3$] | - |\n",
    "| $S_\\text{g}$ | Storage in saturated zone (groundwater) | Opslag in verzadigde zone (grondwater) | [L$^3$] | - |\n",
    "| $S_\\text{max}$ | Reservoir storage size | Grootte van reservoiropslag | [L$^3$] | - |\n",
    "| $S_\\text{s}$ | Storage on the land surface | Opslag op het landoppervlak | [L$^3$] | - |\n",
    "| $S_\\text{u}$ | Storage in the soil (soil moisture in the unsaturated zone) | Opslag in de bodem (bodemvocht in de onverzadigde zone) | [L$^3$] | - |\n",
    "| $S_\\text{w}$ | Storage in open water | Opslag in open water | [L$^3$] | - |"
   ]
  },
  {
   "cell_type": "markdown",
   "metadata": {},
   "source": []
  }
 ],
 "metadata": {
  "kernelspec": {
   "display_name": "Python 3",
   "language": "python",
   "name": "python3"
  },
  "language_info": {
   "name": "python",
   "version": "3.11.1 (tags/v3.11.1:a7a450f, Dec  6 2022, 19:58:39) [MSC v.1934 64 bit (AMD64)]"
  },
  "orig_nbformat": 4,
  "vscode": {
   "interpreter": {
    "hash": "5238573367df39f7286bb46f9ff5f08f63a01a80960060ce41e3c79b190280fa"
   }
  }
 },
 "nbformat": 4,
 "nbformat_minor": 2
}
