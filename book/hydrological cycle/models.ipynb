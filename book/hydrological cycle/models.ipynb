{
 "cells": [
  {
   "attachments": {},
   "cell_type": "markdown",
   "metadata": {},
   "source": [
    "# Models"
   ]
  },
  {
   "attachments": {},
   "cell_type": "markdown",
   "metadata": {},
   "source": [
    "The hydrological cycle is a physical process. The sub-processes can therefore be described with mass balances and equations of motion. However, the total system and the sub-processes are so complex that it is impossible to make an exact calculation. The main reason for this is the heterogeneity of the fluxes and media and aquifers through which the water flows. Moreover, it is difficult to find the correct parameters for the formulas. For example, precipitation is extremely heterogeneous in place and time. Models therefore cannot give accurate results due to this heterogeneity. There is also less knowledge about the groundwater flow through the heterogeneous soil. This is also the case for the parametrization of roughness, boundary layers, turbulence, energy exchange etc. \n",
    "To achieve applicable results, the hydrological reality is often translated into a conceptual model. A model is a perception of reality translated into mathematical relationships. A (sub)area in such a model is characterized by specific parameters (area, soil properties, vegetation etc.). The mass balance and equations of motion are also represented in this model. \n",
    "\n",
    "A *deterministic model* (NL: *deterministisch model*) is a model where the system is described on the basis of physical relationships. However, many hydrological processes show a stochastic variability (random variation in quantity and occurrence) which cannot be sufficiently described by deterministic laws. Measurements that are used in the models are often just a small sample from a large population. In addition, there are uncertainties due to measurement errors or incorrect interpretation of processes. For this reason, there are also many *stochastic models* (NL: *stochastische modellen*) in hydrology. These models use statistical characteristics of hydrological data. \n",
    "\n",
    "Hydrological processes contain both deterministic and stochastic components. For example, consider a precipitation-discharge model. Physical relations can be used to describe the runoff to the river as a function of a precipitation pattern. The probability of occurrence of this precipitation pattern can be determined from measurement series using stochastic methods."
   ]
  },
  {
   "cell_type": "markdown",
   "metadata": {},
   "source": []
  }
 ],
 "metadata": {
  "kernelspec": {
   "display_name": "base",
   "language": "python",
   "name": "python3"
  },
  "language_info": {
   "name": "python",
   "version": "3.10.9 | packaged by Anaconda, Inc. | (main, Mar  1 2023, 18:18:15) [MSC v.1916 64 bit (AMD64)]"
  },
  "orig_nbformat": 4,
  "vscode": {
   "interpreter": {
    "hash": "fc91c54e8b6dd29e99a7e2bf2063aba4ca03fb7c7c3af993fcf4759eea017595"
   }
  }
 },
 "nbformat": 4,
 "nbformat_minor": 2
}
