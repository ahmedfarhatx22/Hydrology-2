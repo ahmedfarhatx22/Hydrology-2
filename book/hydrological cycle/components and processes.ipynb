{
 "cells": [
  {
   "attachments": {},
   "cell_type": "markdown",
   "metadata": {},
   "source": [
    "# Components and processes"
   ]
  },
  {
   "attachments": {},
   "cell_type": "markdown",
   "metadata": {},
   "source": [
    "The hydrological cycle of the land surface is schematized in {numref}`HC_compro_hydrocycle`. Solar radiation is the driving force of this cycle. As most of the water on earth is stored in seas and oceans, one could say that\n",
    "the cycle starts with the effects of solar radiation on the sea surface. Due to the energy provided by radiation, liquid seawater is transformed to the gaseous phase. This process is called *evaporation E* (NL: *verdamping*). Evaporation has a purifying effect, because it distills dissolved substances. Therefore, water bodies on land often consist of fresh water. The water in gas phase is present in the atmosphere for an average of ten days.\n",
    "The water vapor undergoes *condensation* (NL: *condensatie*) due to lower temperatures at higher altitudes, causing the formation of clouds. Depending on the atmospheric condition, *precipitation P* (NL: *neerslag*) occurs in the form of rain, snow or hail. The water returns to the oceans by groundwater flow and overland flow, which both feed rivers discharging in the sea. Part of the water evaporates from land due to interception, evaporation from soil and water bodies and by transpiration through plants. The water therefore circulates several times (*re-cycling*) before reaching the sea."
   ]
  },
  {
   "attachments": {},
   "cell_type": "markdown",
   "metadata": {},
   "source": [
    "```{figure} ../images/HCYC_process_hydrologocialcycle.png\n",
    "---\n",
    "height: 400px\n",
    "name: HC_compro_hydrocycle\n",
    "\n",
    "---\n",
    "Schematization of the hydrological cycle on the land surface. (Own work)\n",
    "```"
   ]
  },
  {
   "attachments": {},
   "cell_type": "markdown",
   "metadata": {},
   "source": [
    "The precipitation falls on the different surfaces of the earth: rock, the soil, vegetation, paved surface, buildings, leaves etcetera. A part of this water evaporates from the wet surface before it infiltrates or runs off. We call this process of temporary storage and evaporation of water *interception* (NL: *interceptie*). Interception is an important process which leads to considerable fluxes of water. The precipitation which does not evaporate due to interception can run off via the land surface (*surface runoff*) or infiltrate into the ground. Surface runoff discharges into small streams, rivers and lakes. In the ground, part of the water runs off just below the surface. This is called *rapid subsurface flow* (NL: *snelle ondergrondse afvoer*) which mainly occurs on steep slopes. Another part of the groundwater undergoes *infiltration* (NL: *inflitratie*) into the unsaturated zone which is transported through *Recharge* (NL: *percolatie*) down to the saturated zone.\n",
    "\n",
    "The unsaturated zone is the zone above the groundwater level and consists of soil material, water and air. Water enters the unsaturated zone by infiltration of water or from capillary rise from the groundwater. Plant roots are situated in the unsaturated zone. Most of the water extracted by the\n",
    "roots evaporates into the atmosphere by *transpiration* (NL: *transpiratie*). Water in the unsaturated zone can directly evaporate into the atmosphere (*soil evaporation*). Part of the water infiltrated in the unsaturated zone percolates towards the groundwater, called the saturated zone. Groundwater eventually discharges into open water like lakes, rivers and seas. The open water discharges into the sea, closing the hydrological cycle.\n",
    "\n",
    "There are two types of surface runoff: hortonion overland flow and saturation excess overland flow. *Hortonion overland flow* occurs when the intensity of the precipitation is more than the infiltration capacity. If the soil is fully saturated than we speak of *saturation excess overland flow*. The first mainly occurs on paved surfaces such as roads, paths or compacted (NL: *verdicht*) soil, and the second mainly on wet plains at the foot of a slope.\n",
    "\n",
    "Evaporation is a crucial process in nature. This process has a purifying effect, because it distills the dissolved substances. Therefore waterbodies on land often consists of fresh water. An exception are waterbodies affected by salt water intrusion from the sea or waterbodies that have turned brackish through evaporation.\n",
    "\n",
    "Surface runoff occurs very quickly in comparison to subsurface flow. The contribution of groundwater to river discharge can be divided into slow and relatively fast responding components. As the groundwater table drops and more ditches and streams dry up, the quickly responding components decrease first, followed by the less responsive components. The slowly responding component is called baseflow. A clear separation between surface runoff and the various underground contributions is very difficult to establish."
   ]
  },
  {
   "attachments": {},
   "cell_type": "markdown",
   "metadata": {},
   "source": [
    "## Fresh and salt water"
   ]
  },
  {
   "attachments": {},
   "cell_type": "markdown",
   "metadata": {},
   "source": [
    "{numref}`tab:amounts` shows the distribution of water over the different stores in the global hydrological system. This shows that 96.5% of the water in the world is stored in the seas and oceans {cite:p}`USGS-2019`. Because of the high salt content, this water is not directly suitable for consumptive use. Apart from the oceans, there is also salt water in inland waters without outflow (e.g. Caspian Sea, Dead Sea, Great Salt Lake) and in the soil. In these seas, the salt content can be much higher than in the ocean. Groundwater can be salty due to percolation and seepage of seawater in the aquifer or by the presence of marine deposits.\n",
    "\n",
    "Only 2.5% of all water on earth is fresh water. More than two-thirds of the freshwater is stored\n",
    "in snow and polar ice, thirty percent of the freshwater is stored as groundwater and only a very\n",
    "small part of the water is located in the atmosphere and rivers {cite:p}`USGS-2019`. Furthermore, the residence times of\n",
    "water in oceans, soil and ice caps are very large. This shows that only a\n",
    "relatively small amount of water is involved in the terrestrial part of the hydrological cycle."
   ]
  },
  {
   "attachments": {},
   "cell_type": "markdown",
   "metadata": {},
   "source": [
    ":::{table} Amounts of water in different parts of the hydrological cycle. Numbers based on {cite:t}`USGS-2019`.\n",
    ":name: tab:amounts\n",
    "\n",
    "| Origin and Residence | Percentage of total water supply | Percentage of fresh water supply | \n",
    "| --- | --- | --- |\n",
    "| Oceans | 96.5 |  |\n",
    "| Groundwater - freshwater| 0.76 | 30.1 |\n",
    "| Groundwater - saltwater| 0.93 |  |\n",
    "| Soil moisture | 0.0012 | 0.05 |\n",
    "| Ice caps | 1.7 | 68.6 |\n",
    "| Glacier ice and snow | 0.025 | 1 |\n",
    "| Lakes - freshwater | 0.007 | 0.26 |\n",
    "| Lakes - saltwater | 0.006 |  |\n",
    "| Rivers | 0.0002 | 0.006 |\n",
    "| Wetlands | 0.0008 | 0.03 |\n",
    "| Atmosphere | 0.001 | 0.04 |\n",
    ":::"
   ]
  },
  {
   "attachments": {},
   "cell_type": "markdown",
   "metadata": {},
   "source": [
    "```{figure} ../images/HCYC_process_hydrofluxdata.png\n",
    "---\n",
    "height: 400px\n",
    "name: HC_compro_globalwatercycle\n",
    "--- \n",
    "Size and distribution of worldwide annual average precipitation and evaporation. Numbers within the figure are based on: {cite:t}`Rodell2015` (numbers on fluxes) and {cite:t}`USGS-2019` (numbers on storages) (Own work).\n",
    "```"
   ]
  },
  {
   "cell_type": "markdown",
   "metadata": {},
   "source": []
  }
 ],
 "metadata": {
  "kernelspec": {
   "display_name": "Python 3",
   "language": "python",
   "name": "python3"
  },
  "language_info": {
   "name": "python",
   "version": "3.11.1 (tags/v3.11.1:a7a450f, Dec  6 2022, 19:58:39) [MSC v.1934 64 bit (AMD64)]"
  },
  "orig_nbformat": 4,
  "vscode": {
   "interpreter": {
    "hash": "5238573367df39f7286bb46f9ff5f08f63a01a80960060ce41e3c79b190280fa"
   }
  }
 },
 "nbformat": 4,
 "nbformat_minor": 2
}
