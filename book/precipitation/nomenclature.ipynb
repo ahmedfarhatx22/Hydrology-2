{
 "cells": [
  {
   "cell_type": "markdown",
   "metadata": {},
   "source": [
    "# Precipitation\n",
    "\n",
    "```{note}\n",
    "This chapter is based on the chapter *Precipitation* from the lecture notes *Water Quantity and Quality* by K. Metselaar et al., Wageningen University, 2022. The first section of this chapter is based on a book chapter by {cite:t}`Uijlenhoet2008`.\n",
    "```\n",
    "\n",
    "```{figure} ../images/PRE_nom_rainfall.jpg\n",
    "---\n",
    "height: 300px\n",
    "name: fig:PRE_nom_rainfall\n",
    "\n",
    "---\n",
    "Rainfall in the Netherlands – photo from {cite:p}`lenderink2011intensiteit`.\n",
    "```"
   ]
  },
  {
   "cell_type": "code",
   "execution_count": null,
   "metadata": {
    "vscode": {
     "languageId": "plaintext"
    }
   },
   "outputs": [],
   "source": []
  },
  {
   "cell_type": "code",
   "execution_count": null,
   "metadata": {
    "vscode": {
     "languageId": "plaintext"
    }
   },
   "outputs": [],
   "source": []
  },
  {
   "cell_type": "markdown",
   "metadata": {},
   "source": [
    "**Nomenclature**"
   ]
  },
  {
   "cell_type": "markdown",
   "metadata": {},
   "source": [
    "| Symbol | Quantity | Quantity name in Dutch | Dimension | Widely used unit (if not SI) |\n",
    "| --- | --- | --- | --- | --- |\n",
    "| $A_a$ | Correction for wet antennas | Correctie voor natte antennes |  | [dB] |\n",
    "| $A_j$ | Sub-area of the catchement | Deelgebieden in het stroomgebied | [L$^2$] | | \n",
    "| $a$ | *Z-R* coefficient | *Z-R* coëfficiënt | Dependent on the value of b | |\n",
    "| $C$ | Radar constant | Radar constante | [T$^3$/ML] | |\n",
    "| $b$ | *Z-R* coefficient | *Z-R* coefficient | [-] | |\n",
    "| $e^* (T)$ | Saturation vapor pressure | Verzadigingsdampdruk | [M/LT$^{2}$] | [hPa] |\n",
    "| $L$ | Link length | Lengte van de link | [L] | [km] |\n",
    "| $N$ | Number of stations | Aantal stations | [-] | |\n",
    "| $P$ | Received power | Ontvangen vermogen | [ML$^2$/T$^3$] | [dBm] | \n",
    "| $P_{max}$ | Maximum received power | Maximaal ontvangen vermogen | [ML$^2$/T$^3$] | [dBm] |\n",
    "| $P_{min}$ | Minimum received power | Minimaal ontvangen vermogen | [ML$^2$/T$^3$] | [dBm] |\n",
    "| $P_r$ | Received power | Ontvangen vermogen | [ML$^2$/T$^3$] | |\n",
    "| $P_{ref}$ | Reference received power (in absence of rain) | Referentie ontvangen vermogen (in afwezigheid  van regen) | [ML$^2$/T$^3$] | [dBm] |\n",
    "| $R$ | Rainfall depth | Regenhoeveelheid | [L] | [mm] |\n",
    "| $R$ | Rainfall intensity | Regenintensiteit | [L/T] | [mm/h] |\n",
    "| $\\overline{R}$ | Average rainfall | Gemiddelde regenval | [L/T] | [mm/h] |\n",
    "| $R_j$ | Rainfall per rain gauge | Regenval per regenmeter | [L/T] | [mm/h] |\n",
    "| $R_X$ | Rainfall at station X | Regenval bij station X | [L/T] | [mm/h] |\n",
    "| $r$ | Distance to the radar | Afstand tot de radar | [L] | |\n",
    "| $r_{station}$ | Distance to station X | Afstand tot station X | [L] |  | \n",
    "| $T$ | Temperature | Temperatuur |  | [$^{\\circ}$C] |\n",
    "| $Z$ | Radar reflectivity factor | Reflectiviteitsfactor van de radar | [L$^6$/L$^3$] | [mm$^6$/m$^3$] |\n",
    "| $\\alpha$ | Factor to distribute the relative contributions of the minimum and maximum received power | Factor om de relatieve bijdragen van het minimum en maximum ontvangen vermogen te bepalen | [-] | |\n",
    "| $\\gamma (d)$ | Semivariance of rainfall at distance d | Semivariantie van regenval op afstand d | [L$^2$/T$^2$] | [mm$^2$/h$^2$] |\n",
    "| $\\omega_j$ | Weight per station (for computing the average) | Gewicht per station (voor berekenen van het gemiddelde) | [-] | |\n",
    "\n",
    "```{note}\n",
    "In this chapter, the symbol $P$ represents power, whereas it is commonly used to denote precipitation.\n",
    "```\n",
    "\n"
   ]
  },
  {
   "cell_type": "markdown",
   "metadata": {},
   "source": []
  }
 ],
 "metadata": {
  "language_info": {
   "name": "python"
  }
 },
 "nbformat": 4,
 "nbformat_minor": 2
}
