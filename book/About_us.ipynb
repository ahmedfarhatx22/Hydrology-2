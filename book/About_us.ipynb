{
 "cells": [
  {
   "cell_type": "markdown",
   "metadata": {},
   "source": [
    "# About us"
   ]
  },
  {
   "cell_type": "markdown",
   "metadata": {},
   "source": [
    "## Project team \n",
    "This book came alive by the contribution of the following people:\n",
    "\n",
    "Chief editors 2024:\n",
    "\n",
    "- Remko Uijlenhoet\n",
    "- Ruud van der Ent\n",
    "\n",
    "Contributing teaching staff 2024:\n",
    "\n",
    "- Martin Bloemendal\n",
    "- Miriam Coenders\n",
    "- Arjan Droste\n",
    "- Olivier Hoes\n",
    "- Job van der Werf\n",
    "\n",
    "Head of support team 2024:\n",
    "\n",
    "- Marissa Zegel\n",
    "\n",
    "Teaching assistants 2024:\n",
    "\n",
    "- Ahmed Farahat\n",
    "- Adinda Jongkind\n",
    "- Pierre Karamountzos\n",
    "\n",
    "Teaching assistants 2023:\n",
    "\n",
    "- Marchien Boonstra\n",
    "- Thirza Feenstra\n",
    "- Ole Neijenhuis\n",
    "- Willem Wolswijk\n",
    "\n",
    "With acknowledged contributions from:\n",
    "\n",
    "- Thom Bogaard\n",
    "- Willem Luxemburg\n",
    "- Martine Rutten\n",
    "- Hubert Savenije\n",
    "\n",
    "Special thanks to:\n",
    "\n",
    "- The Teachbooks Team\n"
   ]
  },
  {
   "cell_type": "markdown",
   "metadata": {},
   "source": [
    "## Disclaimer"
   ]
  },
  {
   "cell_type": "markdown",
   "metadata": {},
   "source": [
    "Please note that while every effort has been made to ensure the accuracy and completeness of the content in this book, we acknowledge that there may be areas for improvement. We are committed to continuously enhancing the quality of our work.\n",
    "\n",
    "Your feedback is highly valued and will contribute to future revisions and updates. If you have any comments, suggestions, or corrections, please do not hesitate to contact us at <span style=\"color:red;\">hydrologie-CiTG@tudelft.nl</span>."
   ]
  },
  {
   "cell_type": "markdown",
   "metadata": {},
   "source": []
  }
 ],
 "metadata": {
  "language_info": {
   "name": "python"
  }
 },
 "nbformat": 4,
 "nbformat_minor": 2
}
