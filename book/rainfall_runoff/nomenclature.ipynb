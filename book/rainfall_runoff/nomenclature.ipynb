{
 "cells": [
  {
   "attachments": {},
   "cell_type": "markdown",
   "metadata": {},
   "source": [
    "(rainfallrunoff)=\n",
    "# Rainfall-runoff relations\n",
    "```{figure} ../images/RFR_nomo_dismeasure.png\n",
    "---\n",
    "width: 400px\n",
    "align: center\n",
    "name: fig:ADCP\n",
    "---\n",
    "Performing discharge measurements during Fieldwork in Luxembourg – photo by (Neijenhuis, 2023).\n",
    "``` \n",
    "\n",
    "\n",
    "**Nomenclature**"
   ]
  },
  {
   "attachments": {},
   "cell_type": "markdown",
   "metadata": {},
   "source": [
    "| Symbol | Quantity | Quantity name in Dutch | Dimension | Widely used unit (if not SI) |\n",
    "| --- | --- | --- | --- | --- |\n",
    "| $A$ | Area | Oppervlakte | [L$^2$] | |\n",
    "| $A_c$ | Cross-sectional area (of a watercourse) | Doorsnede (van een rivier) | [L$^2$] | |\n",
    "| $b$  | Channel width | Beddingbreedte | [L] | |\n",
    "| $C$ | Runoff coefficient to reflect the ratio of surface runoff to rainfall | Afvoercoëfficient om de verhouding tussen oppervlakteafvoer en regenval weer te geven | [-] | |\n",
    "| $C_f$ | Runoff coefficient adjustment factor to account for reduction of infiltration and other losses during high intensity storms | Aanpassingsfactor voor afvoercoëfficiënt om rekening te houden met vermindering van infiltratie en andere verliezen tijdens stormen met hoge intensiteit.  | [-] | |\n",
    "| $C_r$ | Reduction coefficient accounting for losses | Reductiecoëfficiënt welke rekening houdt met verliezen | [-] | |\n",
    "| $C_z$  | Chézy roughness coefficient | Coëfficient van Chézy | [L$^{1/2}$/T] | | \n",
    "| $E_i$ | Interception | Interceptie | [L/T] | |\n",
    "| $h$ | Water level (also: water depth) | Waterstand (ook: Peil) | [L] | |\n",
    "| $I$ | Infiltration | Infiltratie | [L/T] | |\n",
    "| $i$ | Rank in descending order (Used in {numref}`frequency-extreme-discharges`) | Rang in aflopende volgorde | [-] | |\n",
    "| $K_u$ | Empirical coefficient, equal to 6.92 | Empirische coëfficient, gelijk aan 6.92 | [-] | |\n",
    "| $k$ | Reservoir coefficient | Reservoircoëfficiënt | [L$^3$] | |\n",
    "| $l$ | Length of a flow segment | Lengte van een stroomsegment | [L] | |\n",
    "| $m$  | Bank slope denominator: horizontal distance for a vertical displacement of 1 | Noemer van de oeverhelling: horizontale afstand voor een verticale verplaatsing van 1 | [L/L] | |\n",
    "| $N$ | Number of years of measurement | aantal gemeten jaren| [-] | |\n",
    "| $n_m$  | Manning roughness coefficient | Ruwheidscoëfficient van Manning | [T/L$^{1/3}$] | |\n",
    "| $P$ | Precipitation | Neerslag | [L/T] | |\n",
    "| $P_w$ |  Wetted perimeter of the watercourse | Natte omtrek van de waterloop | [L] | |\n",
    "| $P_a$ | Effective precipitation (also: Net precipitation, Stormflow-generating precipitation) | Afvoerbare neerslag (ook: Effectieve neerslag, Netto neerslag, Overtollige neerslag) | [L/T] | |\n",
    "| $p$ | Probability of exceedance ($p$ = Pr($X>x$)) | Kans op overschrijding | [1/T] | |\n",
    "| $Q$ | Runoff (Often expressed per unit area) | Afvoer (Vaak uitgedrukt per eenheid van oppervlak) | [L/T] | |\n",
    "| $Q$ | Discharge (also: Streamflow) | Debiet | [L$^3$/T] | |\n",
    "| $Q_T$  | Discharge return level | Terugkeerniveau van de piekafvoer | [L$^3$/T] | |\n",
    "| $q$ | Probability of non-exceedance ($q$ = Pr($X \\leq x$)) | Kans op onderschrijding | [1/T] | | \n",
    "| $R$  | Hydraulic radius | Hydraulische straal | [L] | |\n",
    "| $S$ | Storage | Berging | [L$^3$] | |\n",
    "| $s$ | Energy slope in the flow direction (in uniform flow, equal to bed slope or water surface slope) | Helling in de stroomrichting | [L/L] | |\n",
    "| $T$ | Return period | Herhalingstijd | [T] | [year] |\n",
    "| $t_c$ | Time of concentration | Looptijd | [T] | [min] |\n",
    "| $t_{ocf}$ | Travel time for the open-channel flow segment(s) | Duur van afstroming in open waterlopen | [T] | [min] |\n",
    "| $t_{osf}$ | Travel time for the sheet flow segment | Duur van afstroming over oppervlakte | [T] | [min] |\n",
    "| $t_{pf}$ | Travel time for the pipe flow segment(s) | Duur van afstroming door buizen | [T] | [min] |\n",
    "| $t_{scf}$ | Travel time for the shallow concentrated flow segment | Duur van ondiepe geconcentreerde stroming| [T] | [min] |\n",
    "| $v$ | Flow velocity | Stroomsnelheid | [L/T] | |\n",
    "| $y$ | Reduced variate | Gereduceerde variaat | [-] | |"
   ]
  },
  {
   "cell_type": "markdown",
   "metadata": {},
   "source": [
    "```{Note}\n",
    "$Q$ in this chapter - as well as in engineering hydrology practice - is also simply used for various specific parts of the flow/discharge/runoff, such as storm flow, peak flow or base flow, although a subscript would have been more appropriate.\n",
    " ```"
   ]
  },
  {
   "cell_type": "markdown",
   "metadata": {},
   "source": []
  }
 ],
 "metadata": {
  "language_info": {
   "name": "python"
  },
  "orig_nbformat": 4
 },
 "nbformat": 4,
 "nbformat_minor": 2
}
